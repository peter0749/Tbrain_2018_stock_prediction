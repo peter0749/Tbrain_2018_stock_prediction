{
 "cells": [
  {
   "cell_type": "code",
   "execution_count": 1,
   "metadata": {},
   "outputs": [
    {
     "name": "stderr",
     "output_type": "stream",
     "text": [
      "C:\\Users\\peter\\Anaconda3\\envs\\tensorflow\\lib\\site-packages\\h5py\\__init__.py:36: FutureWarning: Conversion of the second argument of issubdtype from `float` to `np.floating` is deprecated. In future, it will be treated as `np.float64 == np.dtype(float).type`.\n",
      "  from ._conv import register_converters as _register_converters\n",
      "Using TensorFlow backend.\n"
     ]
    }
   ],
   "source": [
    "import os\n",
    "os.environ['CUDA_VISIBLE_DEVICES']='0'\n",
    "from IPython.display import display, HTML\n",
    "import numpy as np\n",
    "import pandas as pd\n",
    "import matplotlib as mpl\n",
    "import matplotlib.pyplot as plt\n",
    "import seaborn as sns\n",
    "sns.set_style('whitegrid')\n",
    "import keras\n",
    "from keras.models import *\n",
    "from keras.layers import *\n",
    "import tensorflow as tf\n",
    "config = tf.ConfigProto()\n",
    "config.gpu_options.allow_growth = True\n",
    "session = tf.Session(config=config)\n",
    "from keras import backend as K\n",
    "K.set_session(session)\n",
    "from exp_smooth import exp_smooth"
   ]
  },
  {
   "cell_type": "code",
   "execution_count": 2,
   "metadata": {},
   "outputs": [],
   "source": [
    "DATASET_ROOT = './0608'\n",
    "TRAIN_PATH = os.path.join(DATASET_ROOT, 'taetfp.csv')\n",
    "AUX_PATH = os.path.join(DATASET_ROOT, 'tasharep.csv')\n",
    "TS_IN=20\n",
    "TS_OUT=5\n",
    "EXP_ALPHA=0.3\n",
    "fields = ['開盤價(元)', '最高價(元)', '最低價(元)', '收盤價(元)', '成交張數(張)']\n",
    "fields_dict = dict()\n",
    "for n, f in enumerate(fields):\n",
    "    fields_dict[f] = n"
   ]
  },
  {
   "cell_type": "code",
   "execution_count": 3,
   "metadata": {},
   "outputs": [
    {
     "data": {
      "text/html": [
       "<div>\n",
       "<style scoped>\n",
       "    .dataframe tbody tr th:only-of-type {\n",
       "        vertical-align: middle;\n",
       "    }\n",
       "\n",
       "    .dataframe tbody tr th {\n",
       "        vertical-align: top;\n",
       "    }\n",
       "\n",
       "    .dataframe thead th {\n",
       "        text-align: right;\n",
       "    }\n",
       "</style>\n",
       "<table border=\"1\" class=\"dataframe\">\n",
       "  <thead>\n",
       "    <tr style=\"text-align: right;\">\n",
       "      <th></th>\n",
       "      <th>代碼</th>\n",
       "      <th>日期</th>\n",
       "      <th>中文簡稱</th>\n",
       "      <th>開盤價(元)</th>\n",
       "      <th>最高價(元)</th>\n",
       "      <th>最低價(元)</th>\n",
       "      <th>收盤價(元)</th>\n",
       "      <th>成交張數(張)</th>\n",
       "    </tr>\n",
       "  </thead>\n",
       "  <tbody>\n",
       "    <tr>\n",
       "      <th>0</th>\n",
       "      <td>50</td>\n",
       "      <td>20130102</td>\n",
       "      <td>元大台灣50</td>\n",
       "      <td>46.57</td>\n",
       "      <td>47.13</td>\n",
       "      <td>46.49</td>\n",
       "      <td>46.92</td>\n",
       "      <td>16487.0</td>\n",
       "    </tr>\n",
       "    <tr>\n",
       "      <th>1332</th>\n",
       "      <td>51</td>\n",
       "      <td>20130102</td>\n",
       "      <td>元大中型100</td>\n",
       "      <td>22.36</td>\n",
       "      <td>22.66</td>\n",
       "      <td>22.36</td>\n",
       "      <td>22.65</td>\n",
       "      <td>277.0</td>\n",
       "    </tr>\n",
       "    <tr>\n",
       "      <th>2664</th>\n",
       "      <td>52</td>\n",
       "      <td>20130102</td>\n",
       "      <td>富邦科技</td>\n",
       "      <td>26.57</td>\n",
       "      <td>26.95</td>\n",
       "      <td>26.57</td>\n",
       "      <td>26.92</td>\n",
       "      <td>26.0</td>\n",
       "    </tr>\n",
       "    <tr>\n",
       "      <th>3996</th>\n",
       "      <td>53</td>\n",
       "      <td>20130102</td>\n",
       "      <td>元大電子</td>\n",
       "      <td>19.84</td>\n",
       "      <td>19.84</td>\n",
       "      <td>19.52</td>\n",
       "      <td>19.81</td>\n",
       "      <td>42.0</td>\n",
       "    </tr>\n",
       "    <tr>\n",
       "      <th>5328</th>\n",
       "      <td>54</td>\n",
       "      <td>20130102</td>\n",
       "      <td>元大台商50</td>\n",
       "      <td>16.84</td>\n",
       "      <td>16.84</td>\n",
       "      <td>16.54</td>\n",
       "      <td>16.75</td>\n",
       "      <td>20.0</td>\n",
       "    </tr>\n",
       "    <tr>\n",
       "      <th>6660</th>\n",
       "      <td>55</td>\n",
       "      <td>20130102</td>\n",
       "      <td>元大MSCI金融</td>\n",
       "      <td>9.85</td>\n",
       "      <td>9.94</td>\n",
       "      <td>9.83</td>\n",
       "      <td>9.91</td>\n",
       "      <td>2210.0</td>\n",
       "    </tr>\n",
       "    <tr>\n",
       "      <th>7992</th>\n",
       "      <td>56</td>\n",
       "      <td>20130102</td>\n",
       "      <td>元大高股息</td>\n",
       "      <td>18.45</td>\n",
       "      <td>18.63</td>\n",
       "      <td>18.45</td>\n",
       "      <td>18.55</td>\n",
       "      <td>1623.0</td>\n",
       "    </tr>\n",
       "    <tr>\n",
       "      <th>9324</th>\n",
       "      <td>57</td>\n",
       "      <td>20130102</td>\n",
       "      <td>富邦摩台</td>\n",
       "      <td>30.35</td>\n",
       "      <td>30.69</td>\n",
       "      <td>30.35</td>\n",
       "      <td>30.69</td>\n",
       "      <td>69.0</td>\n",
       "    </tr>\n",
       "    <tr>\n",
       "      <th>10656</th>\n",
       "      <td>58</td>\n",
       "      <td>20130102</td>\n",
       "      <td>富邦發達</td>\n",
       "      <td>32.45</td>\n",
       "      <td>32.45</td>\n",
       "      <td>32.12</td>\n",
       "      <td>32.12</td>\n",
       "      <td>2.0</td>\n",
       "    </tr>\n",
       "    <tr>\n",
       "      <th>11988</th>\n",
       "      <td>59</td>\n",
       "      <td>20130102</td>\n",
       "      <td>富邦金融</td>\n",
       "      <td>24.65</td>\n",
       "      <td>24.65</td>\n",
       "      <td>24.65</td>\n",
       "      <td>24.65</td>\n",
       "      <td>2.0</td>\n",
       "    </tr>\n",
       "  </tbody>\n",
       "</table>\n",
       "</div>"
      ],
      "text/plain": [
       "       代碼        日期              中文簡稱  開盤價(元)  最高價(元)  最低價(元)  收盤價(元)  成交張數(張)\n",
       "0      50  20130102  元大台灣50             46.57   47.13   46.49   46.92  16487.0\n",
       "1332   51  20130102  元大中型100            22.36   22.66   22.36   22.65    277.0\n",
       "2664   52  20130102  富邦科技               26.57   26.95   26.57   26.92     26.0\n",
       "3996   53  20130102  元大電子               19.84   19.84   19.52   19.81     42.0\n",
       "5328   54  20130102  元大台商50             16.84   16.84   16.54   16.75     20.0\n",
       "6660   55  20130102  元大MSCI金融            9.85    9.94    9.83    9.91   2210.0\n",
       "7992   56  20130102   元大高股息             18.45   18.63   18.45   18.55   1623.0\n",
       "9324   57  20130102  富邦摩台               30.35   30.69   30.35   30.69     69.0\n",
       "10656  58  20130102  富邦發達               32.45   32.45   32.12   32.12      2.0\n",
       "11988  59  20130102  富邦金融               24.65   24.65   24.65   24.65      2.0"
      ]
     },
     "metadata": {},
     "output_type": "display_data"
    },
    {
     "name": "stderr",
     "output_type": "stream",
     "text": [
      "C:\\Users\\peter\\Anaconda3\\envs\\tensorflow\\lib\\site-packages\\IPython\\core\\interactiveshell.py:2785: DtypeWarning: Columns (3,4,5,6) have mixed types. Specify dtype option on import or set low_memory=False.\n",
      "  interactivity=interactivity, compiler=compiler, result=result)\n"
     ]
    },
    {
     "data": {
      "text/html": [
       "<div>\n",
       "<style scoped>\n",
       "    .dataframe tbody tr th:only-of-type {\n",
       "        vertical-align: middle;\n",
       "    }\n",
       "\n",
       "    .dataframe tbody tr th {\n",
       "        vertical-align: top;\n",
       "    }\n",
       "\n",
       "    .dataframe thead th {\n",
       "        text-align: right;\n",
       "    }\n",
       "</style>\n",
       "<table border=\"1\" class=\"dataframe\">\n",
       "  <thead>\n",
       "    <tr style=\"text-align: right;\">\n",
       "      <th></th>\n",
       "      <th>代碼</th>\n",
       "      <th>日期</th>\n",
       "      <th>中文簡稱</th>\n",
       "      <th>開盤價(元)</th>\n",
       "      <th>最高價(元)</th>\n",
       "      <th>最低價(元)</th>\n",
       "      <th>收盤價(元)</th>\n",
       "      <th>成交張數(張)</th>\n",
       "    </tr>\n",
       "  </thead>\n",
       "  <tbody>\n",
       "    <tr>\n",
       "      <th>0</th>\n",
       "      <td>1101</td>\n",
       "      <td>20130102</td>\n",
       "      <td>台泥</td>\n",
       "      <td>30.41</td>\n",
       "      <td>30.53</td>\n",
       "      <td>30.18</td>\n",
       "      <td>30.45</td>\n",
       "      <td>6374.0</td>\n",
       "    </tr>\n",
       "    <tr>\n",
       "      <th>1332</th>\n",
       "      <td>1102</td>\n",
       "      <td>20130102</td>\n",
       "      <td>亞泥</td>\n",
       "      <td>28.74</td>\n",
       "      <td>28.90</td>\n",
       "      <td>28.70</td>\n",
       "      <td>28.78</td>\n",
       "      <td>2856.0</td>\n",
       "    </tr>\n",
       "    <tr>\n",
       "      <th>2664</th>\n",
       "      <td>1103</td>\n",
       "      <td>20130102</td>\n",
       "      <td>嘉泥</td>\n",
       "      <td>12.29</td>\n",
       "      <td>12.33</td>\n",
       "      <td>12.24</td>\n",
       "      <td>12.24</td>\n",
       "      <td>315.0</td>\n",
       "    </tr>\n",
       "    <tr>\n",
       "      <th>3996</th>\n",
       "      <td>1104</td>\n",
       "      <td>20130102</td>\n",
       "      <td>環泥</td>\n",
       "      <td>11.87</td>\n",
       "      <td>12.17</td>\n",
       "      <td>11.87</td>\n",
       "      <td>12.06</td>\n",
       "      <td>551.0</td>\n",
       "    </tr>\n",
       "    <tr>\n",
       "      <th>5328</th>\n",
       "      <td>1108</td>\n",
       "      <td>20130102</td>\n",
       "      <td>幸福</td>\n",
       "      <td>5.18</td>\n",
       "      <td>5.22</td>\n",
       "      <td>5.16</td>\n",
       "      <td>5.18</td>\n",
       "      <td>447.0</td>\n",
       "    </tr>\n",
       "    <tr>\n",
       "      <th>6660</th>\n",
       "      <td>1109</td>\n",
       "      <td>20130102</td>\n",
       "      <td>信大</td>\n",
       "      <td>9.24</td>\n",
       "      <td>9.28</td>\n",
       "      <td>9.19</td>\n",
       "      <td>9.24</td>\n",
       "      <td>104.0</td>\n",
       "    </tr>\n",
       "    <tr>\n",
       "      <th>7992</th>\n",
       "      <td>1110</td>\n",
       "      <td>20130102</td>\n",
       "      <td>東泥</td>\n",
       "      <td>13.41</td>\n",
       "      <td>13.46</td>\n",
       "      <td>13.23</td>\n",
       "      <td>13.23</td>\n",
       "      <td>169.0</td>\n",
       "    </tr>\n",
       "    <tr>\n",
       "      <th>9324</th>\n",
       "      <td>1201</td>\n",
       "      <td>20130102</td>\n",
       "      <td>味全</td>\n",
       "      <td>35.69</td>\n",
       "      <td>37.74</td>\n",
       "      <td>35.44</td>\n",
       "      <td>37.69</td>\n",
       "      <td>8971.0</td>\n",
       "    </tr>\n",
       "    <tr>\n",
       "      <th>10656</th>\n",
       "      <td>1203</td>\n",
       "      <td>20130102</td>\n",
       "      <td>味王</td>\n",
       "      <td>16.61</td>\n",
       "      <td>16.78</td>\n",
       "      <td>16.61</td>\n",
       "      <td>16.73</td>\n",
       "      <td>143.0</td>\n",
       "    </tr>\n",
       "    <tr>\n",
       "      <th>11988</th>\n",
       "      <td>1210</td>\n",
       "      <td>20130102</td>\n",
       "      <td>大成</td>\n",
       "      <td>16.84</td>\n",
       "      <td>16.99</td>\n",
       "      <td>16.84</td>\n",
       "      <td>16.87</td>\n",
       "      <td>1373.0</td>\n",
       "    </tr>\n",
       "  </tbody>\n",
       "</table>\n",
       "</div>"
      ],
      "text/plain": [
       "         代碼        日期                中文簡稱  開盤價(元)  最高價(元)  最低價(元)  收盤價(元)  \\\n",
       "0      1101  20130102  台泥                   30.41   30.53   30.18   30.45   \n",
       "1332   1102  20130102  亞泥                   28.74   28.90   28.70   28.78   \n",
       "2664   1103  20130102  嘉泥                   12.29   12.33   12.24   12.24   \n",
       "3996   1104  20130102  環泥                   11.87   12.17   11.87   12.06   \n",
       "5328   1108  20130102  幸福                    5.18    5.22    5.16    5.18   \n",
       "6660   1109  20130102  信大                    9.24    9.28    9.19    9.24   \n",
       "7992   1110  20130102  東泥                   13.41   13.46   13.23   13.23   \n",
       "9324   1201  20130102  味全                   35.69   37.74   35.44   37.69   \n",
       "10656  1203  20130102  味王                   16.61   16.78   16.61   16.73   \n",
       "11988  1210  20130102  大成                   16.84   16.99   16.84   16.87   \n",
       "\n",
       "       成交張數(張)  \n",
       "0       6374.0  \n",
       "1332    2856.0  \n",
       "2664     315.0  \n",
       "3996     551.0  \n",
       "5328     447.0  \n",
       "6660     104.0  \n",
       "7992     169.0  \n",
       "9324    8971.0  \n",
       "10656    143.0  \n",
       "11988   1373.0  "
      ]
     },
     "metadata": {},
     "output_type": "display_data"
    }
   ],
   "source": [
    "train_csv = pd.read_csv(TRAIN_PATH)\n",
    "train_csv.sort_values(by=['日期', '代碼'], ascending=True, inplace=True)\n",
    "train_csv[fields] = train_csv[fields].applymap(lambda x: float(x.replace(',','')) if type(x)==str else x)\n",
    "display(train_csv.head(n=10))\n",
    "\n",
    "aux_csv = pd.read_csv(AUX_PATH)\n",
    "aux_csv.sort_values(by=['日期', '代碼'], ascending=True, inplace=True) # 照 '日期' 和 '代碼' 排序 (重要)\n",
    "aux_csv[fields] = aux_csv[fields].applymap(lambda x: float(x.replace(',','')) if type(x)==str else x)\n",
    "display(aux_csv.head(n=10))"
   ]
  },
  {
   "cell_type": "code",
   "execution_count": 4,
   "metadata": {},
   "outputs": [],
   "source": [
    "codes = list(sorted(set(train_csv['代碼'])))\n",
    "aux_codes = np.load('codes_subset.npy') # sorted\n",
    "days  = list(sorted(set(train_csv['日期']))) # 在 taetfp 內出現的日期才被我們使用\n",
    "#days_dict = dict()\n",
    "#for n, day in enumerate(days):\n",
    "#    days_dict[day] = n"
   ]
  },
  {
   "cell_type": "code",
   "execution_count": 5,
   "metadata": {},
   "outputs": [],
   "source": [
    "aux_csv = aux_csv.loc[aux_csv['代碼'].isin(aux_codes) & aux_csv['日期'].isin(days)] # 只找在 subset 內的資料"
   ]
  },
  {
   "cell_type": "code",
   "execution_count": 6,
   "metadata": {},
   "outputs": [],
   "source": [
    "split_days = [] # 同一天分一堆\n",
    "for day in days:\n",
    "    row = aux_csv.loc[aux_csv['日期']==day][fields]\n",
    "    split_days.append(np.asarray(row, dtype=np.float32))\n",
    "split_days = np.asarray(split_days, dtype=np.float32)"
   ]
  },
  {
   "cell_type": "code",
   "execution_count": 7,
   "metadata": {},
   "outputs": [
    {
     "name": "stdout",
     "output_type": "stream",
     "text": [
      "(1332, 1387, 5)\n"
     ]
    }
   ],
   "source": [
    "print(split_days.shape) # 先當作日期有對齊好 shape: (1317, 1388, 5) -> 1317 天, 每天有 1388 支股票, 每支股票有 5 個 feature"
   ]
  },
  {
   "cell_type": "code",
   "execution_count": 8,
   "metadata": {},
   "outputs": [
    {
     "name": "stdout",
     "output_type": "stream",
     "text": [
      "(1332, 6935)\n"
     ]
    }
   ],
   "source": [
    "split_days = split_days.reshape(split_days.shape[0], -1) # shape: (1317, 1388*5=6940) , 攤平\n",
    "print(split_days.shape)"
   ]
  },
  {
   "cell_type": "code",
   "execution_count": 9,
   "metadata": {},
   "outputs": [],
   "source": [
    "import pickle\n",
    "from sklearn.manifold import Isomap\n",
    "with open('isomap.pickle', 'rb') as fp:\n",
    "    isomap = pickle.load(fp)"
   ]
  },
  {
   "cell_type": "code",
   "execution_count": 10,
   "metadata": {},
   "outputs": [
    {
     "name": "stdout",
     "output_type": "stream",
     "text": [
      "(1332, 122)\n"
     ]
    }
   ],
   "source": [
    "split_days_reduced = isomap.transform(split_days) # dimension reduction\n",
    "print(split_days_reduced.shape)"
   ]
  },
  {
   "cell_type": "code",
   "execution_count": 11,
   "metadata": {},
   "outputs": [],
   "source": [
    "split_train = []\n",
    "for code in codes:\n",
    "    row   = np.asarray(train_csv.loc[train_csv['代碼']==code][fields], dtype=np.float32)\n",
    "    aux_pca_data = split_days_reduced[-row.shape[0]:,:] # 對齊最後幾天 (先當作這樣就對齊了)\n",
    "    label = np.append(np.array([0], dtype=np.float32), (row[1:,-2] > row[:-1,-2]).astype(np.float32)).astype(np.float32)[...,np.newaxis]\n",
    "    #row[day-0:, 收盤價] > row[:day-n, 收盤價]\n",
    "    row = np.concatenate([row, aux_pca_data], axis=-1) # 127\n",
    "    row = np.append(row, exp_smooth(row, alpha=EXP_ALPHA, dtype=np.float32), axis=-1) # 254\n",
    "    row = np.append(row, label, axis=-1) # 255\n",
    "    split_train.append(row[-TS_IN:])"
   ]
  },
  {
   "cell_type": "code",
   "execution_count": 12,
   "metadata": {},
   "outputs": [
    {
     "name": "stdout",
     "output_type": "stream",
     "text": [
      "50 (20, 255)\n",
      "51 (20, 255)\n",
      "52 (20, 255)\n",
      "53 (20, 255)\n",
      "54 (20, 255)\n",
      "55 (20, 255)\n",
      "56 (20, 255)\n",
      "57 (20, 255)\n",
      "58 (20, 255)\n",
      "59 (20, 255)\n",
      "690 (20, 255)\n",
      "692 (20, 255)\n",
      "701 (20, 255)\n",
      "713 (20, 255)\n",
      "6201 (20, 255)\n",
      "6203 (20, 255)\n",
      "6204 (20, 255)\n",
      "6208 (20, 255)\n"
     ]
    }
   ],
   "source": [
    "for n, s in enumerate(split_train):\n",
    "    print(codes[n], s.shape)"
   ]
  },
  {
   "cell_type": "code",
   "execution_count": 13,
   "metadata": {},
   "outputs": [
    {
     "name": "stdout",
     "output_type": "stream",
     "text": [
      "__________________________________________________________________________________________________\n",
      "Layer (type)                    Output Shape         Param #     Connected to                     \n",
      "==================================================================================================\n",
      "input_1 (InputLayer)            (None, 20, 255)      0                                            \n",
      "__________________________________________________________________________________________________\n",
      "gaussian_noise_1 (GaussianNoise (None, 20, 255)      0           input_1[0][0]                    \n",
      "__________________________________________________________________________________________________\n",
      "bidirectional_1 (Bidirectional) (None, 20, 256)      1050624     gaussian_noise_1[0][0]           \n",
      "__________________________________________________________________________________________________\n",
      "bidirectional_2 (Bidirectional) (None, 256)          1052672     bidirectional_1[0][0]            \n",
      "__________________________________________________________________________________________________\n",
      "repeat_vector_1 (RepeatVector)  (None, 5, 256)       0           bidirectional_2[0][0]            \n",
      "__________________________________________________________________________________________________\n",
      "cu_dnnlstm_3 (CuDNNLSTM)        (None, 5, 128)       197632      repeat_vector_1[0][0]            \n",
      "__________________________________________________________________________________________________\n",
      "cu_dnnlstm_4 (CuDNNLSTM)        (None, 5, 128)       132096      cu_dnnlstm_3[0][0]               \n",
      "__________________________________________________________________________________________________\n",
      "regression (TimeDistributed)    (None, 5, 1)         129         cu_dnnlstm_4[0][0]               \n",
      "__________________________________________________________________________________________________\n",
      "class (TimeDistributed)         (None, 5, 1)         129         cu_dnnlstm_4[0][0]               \n",
      "==================================================================================================\n",
      "Total params: 2,433,282\n",
      "Trainable params: 2,433,282\n",
      "Non-trainable params: 0\n",
      "__________________________________________________________________________________________________\n"
     ]
    }
   ],
   "source": [
    "from keras.regularizers import *\n",
    "\n",
    "def make_model(ts_in=60, ts_out=5, n_field=255, n_encode=256, n_decode=128, reg_a=0.1):\n",
    "    input_ = Input(shape=(ts_in, n_field))\n",
    "    noise = GaussianNoise(1e-6) (input_)\n",
    "    lstm_1 = Bidirectional(CuDNNLSTM(n_encode, return_sequences=True, recurrent_regularizer=l2(reg_a)), merge_mode='sum') (noise)\n",
    "    lstm_2 = Bidirectional(CuDNNLSTM(n_encode, return_sequences=False, recurrent_regularizer=l2(reg_a)), merge_mode='sum') (lstm_1)\n",
    "    rep_vec_2 = RepeatVector(ts_out) (lstm_2)\n",
    "    lstm_3 = CuDNNLSTM(n_decode, return_sequences=True, recurrent_regularizer=l2(reg_a)) (rep_vec_2)\n",
    "    lstm_4 = CuDNNLSTM(n_decode, return_sequences=True, recurrent_regularizer=l2(reg_a)) (lstm_3)\n",
    "    fc_4_regression     = TimeDistributed(Dense(1, kernel_regularizer=l2(reg_a)), name='regression') (lstm_4)\n",
    "    fc_4_classification = TimeDistributed(Dense(1, kernel_regularizer=l2(reg_a), activation='sigmoid'), name='class') (lstm_4)\n",
    "    return Model([input_], [fc_4_regression, fc_4_classification])\n",
    "make_model(ts_in=TS_IN, ts_out=TS_OUT).summary()"
   ]
  },
  {
   "cell_type": "code",
   "execution_count": 14,
   "metadata": {},
   "outputs": [
    {
     "name": "stderr",
     "output_type": "stream",
     "text": [
      "100%|██████████████████████████████████████████████████████████████████████████████████| 18/18 [00:20<00:00,  1.12s/it]\n"
     ]
    }
   ],
   "source": [
    "from tqdm import tqdm\n",
    "with open('./submission.csv', 'w') as fp:\n",
    "    fp.write('ETFid,Mon_ud,Mon_cprice,Tue_ud,Tue_cprice,Wed_ud,Wed_cprice,Thu_ud,Thu_cprice,Fri_ud,Fri_cprice\\n')\n",
    "    for model_n, X in tqdm(enumerate(split_train), total=len(split_train)):\n",
    "        prefix = str(codes[model_n])\n",
    "        name_ = '00'+prefix\n",
    "        model = make_model(ts_in=TS_IN, ts_out=TS_OUT)\n",
    "        model.load_weights(prefix+'_model.h5')\n",
    "        pred_reg, pred_class = model.predict(X[np.newaxis,...], batch_size=1)\n",
    "        K.clear_session()\n",
    "        pred_reg = np.squeeze(pred_reg)\n",
    "        pred_class = np.squeeze(pred_class)\n",
    "        fp.write(name_)\n",
    "        for p_c, p_r in zip(pred_class, pred_reg):\n",
    "            fp.write(',{:d},{:.6f}'.format(1 if p_c>.5 else -1, p_r))\n",
    "        fp.write('\\n')\n",
    "        "
   ]
  },
  {
   "cell_type": "markdown",
   "metadata": {},
   "source": [
    "![](https://tbrain.trendmicro.com.tw/Content/img/18etf.png)"
   ]
  },
  {
   "cell_type": "markdown",
   "metadata": {},
   "source": [
    "#### Todo:\n",
    "1. Check missing data / value\n",
    "2. Do more EDA on dataset\n",
    "3. Try more baseline models (LSTM, GRU, CNN-1D, XGBoost, SVM, ...) \n",
    "4. Add Candlestick chart\n",
    "5. Add n-fold cross validation\n",
    "6. 是否天數有對齊?\n"
   ]
  },
  {
   "cell_type": "code",
   "execution_count": null,
   "metadata": {},
   "outputs": [],
   "source": []
  }
 ],
 "metadata": {
  "kernelspec": {
   "display_name": "Python 3",
   "language": "python",
   "name": "python3"
  },
  "language_info": {
   "codemirror_mode": {
    "name": "ipython",
    "version": 3
   },
   "file_extension": ".py",
   "mimetype": "text/x-python",
   "name": "python",
   "nbconvert_exporter": "python",
   "pygments_lexer": "ipython3",
   "version": "3.6.5"
  }
 },
 "nbformat": 4,
 "nbformat_minor": 2
}
