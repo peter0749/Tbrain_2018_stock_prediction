{
 "cells": [
  {
   "cell_type": "code",
   "execution_count": 1,
   "metadata": {},
   "outputs": [
    {
     "name": "stderr",
     "output_type": "stream",
     "text": [
      "C:\\Users\\peter\\Anaconda3\\envs\\tensorflow\\lib\\site-packages\\h5py\\__init__.py:36: FutureWarning: Conversion of the second argument of issubdtype from `float` to `np.floating` is deprecated. In future, it will be treated as `np.float64 == np.dtype(float).type`.\n",
      "  from ._conv import register_converters as _register_converters\n",
      "Using TensorFlow backend.\n"
     ]
    }
   ],
   "source": [
    "import numpy \n",
    "import keras\n",
    "from keras.layers import *\n",
    "from keras.models import *\n",
    "import keras.backend as K\n"
   ]
  },
  {
   "cell_type": "code",
   "execution_count": 2,
   "metadata": {},
   "outputs": [],
   "source": [
    "seqlen = 10\n",
    "batch_size = 32\n",
    "epochs = 50"
   ]
  },
  {
   "cell_type": "code",
   "execution_count": 3,
   "metadata": {},
   "outputs": [],
   "source": [
    "def generator(batch_size=8):\n",
    "    Xs, Ys = [], []\n",
    "    while True:\n",
    "        step = np.random.randint(3)\n",
    "        f0 = np.random.randint(-10, 10)\n",
    "        x = [f0]\n",
    "        for _ in range(seqlen):\n",
    "            f0 += step\n",
    "            x.append(f0)\n",
    "        Xs.append(x[:seqlen])\n",
    "        Ys.append(x[seqlen])\n",
    "        if len(Xs)==batch_size:\n",
    "            yield np.expand_dims(np.array(Xs), -1), np.array(Ys)\n",
    "            Xs, Ys = [], []"
   ]
  },
  {
   "cell_type": "code",
   "execution_count": 4,
   "metadata": {},
   "outputs": [
    {
     "data": {
      "text/plain": [
       "(array([[[ 5],\n",
       "         [ 6],\n",
       "         [ 7],\n",
       "         [ 8],\n",
       "         [ 9],\n",
       "         [10],\n",
       "         [11],\n",
       "         [12],\n",
       "         [13],\n",
       "         [14]],\n",
       " \n",
       "        [[-6],\n",
       "         [-5],\n",
       "         [-4],\n",
       "         [-3],\n",
       "         [-2],\n",
       "         [-1],\n",
       "         [ 0],\n",
       "         [ 1],\n",
       "         [ 2],\n",
       "         [ 3]],\n",
       " \n",
       "        [[-4],\n",
       "         [-4],\n",
       "         [-4],\n",
       "         [-4],\n",
       "         [-4],\n",
       "         [-4],\n",
       "         [-4],\n",
       "         [-4],\n",
       "         [-4],\n",
       "         [-4]],\n",
       " \n",
       "        [[-7],\n",
       "         [-7],\n",
       "         [-7],\n",
       "         [-7],\n",
       "         [-7],\n",
       "         [-7],\n",
       "         [-7],\n",
       "         [-7],\n",
       "         [-7],\n",
       "         [-7]],\n",
       " \n",
       "        [[-2],\n",
       "         [-2],\n",
       "         [-2],\n",
       "         [-2],\n",
       "         [-2],\n",
       "         [-2],\n",
       "         [-2],\n",
       "         [-2],\n",
       "         [-2],\n",
       "         [-2]],\n",
       " \n",
       "        [[ 9],\n",
       "         [11],\n",
       "         [13],\n",
       "         [15],\n",
       "         [17],\n",
       "         [19],\n",
       "         [21],\n",
       "         [23],\n",
       "         [25],\n",
       "         [27]],\n",
       " \n",
       "        [[ 3],\n",
       "         [ 4],\n",
       "         [ 5],\n",
       "         [ 6],\n",
       "         [ 7],\n",
       "         [ 8],\n",
       "         [ 9],\n",
       "         [10],\n",
       "         [11],\n",
       "         [12]],\n",
       " \n",
       "        [[ 2],\n",
       "         [ 2],\n",
       "         [ 2],\n",
       "         [ 2],\n",
       "         [ 2],\n",
       "         [ 2],\n",
       "         [ 2],\n",
       "         [ 2],\n",
       "         [ 2],\n",
       "         [ 2]]]), array([15,  4, -4, -7, -2, 29, 13,  2]))"
      ]
     },
     "execution_count": 4,
     "metadata": {},
     "output_type": "execute_result"
    }
   ],
   "source": [
    "next(generator())"
   ]
  },
  {
   "cell_type": "code",
   "execution_count": 5,
   "metadata": {},
   "outputs": [
    {
     "name": "stdout",
     "output_type": "stream",
     "text": [
      "_________________________________________________________________\n",
      "Layer (type)                 Output Shape              Param #   \n",
      "=================================================================\n",
      "cu_dnnlstm_1 (CuDNNLSTM)     (None, 10, 128)           67072     \n",
      "_________________________________________________________________\n",
      "cu_dnnlstm_2 (CuDNNLSTM)     (None, 10, 128)           132096    \n",
      "_________________________________________________________________\n",
      "cu_dnnlstm_3 (CuDNNLSTM)     (None, 128)               132096    \n",
      "_________________________________________________________________\n",
      "dense_1 (Dense)              (None, 1)                 129       \n",
      "=================================================================\n",
      "Total params: 331,393\n",
      "Trainable params: 331,393\n",
      "Non-trainable params: 0\n",
      "_________________________________________________________________\n"
     ]
    }
   ],
   "source": [
    "# custom R2-score metrics for keras backend\n",
    "def r2_keras(y_true, y_pred):\n",
    "    SS_res =  K.sum(K.square(y_true - y_pred)) \n",
    "    SS_tot = K.sum(K.square(y_true - K.mean(y_true))) \n",
    "    return (1 - SS_res/(SS_tot + K.epsilon()))\n",
    "\n",
    "model = Sequential()\n",
    "model.add(CuDNNLSTM(128, recurrent_regularizer=keras.regularizers.l2(0.01), return_sequences=True, input_shape=(seqlen,1)))\n",
    "model.add(CuDNNLSTM(128, recurrent_regularizer=keras.regularizers.l2(0.01), return_sequences=True))\n",
    "model.add(CuDNNLSTM(128, recurrent_regularizer=keras.regularizers.l2(0.01), return_sequences=False))\n",
    "model.add(Dense(1, kernel_regularizer=keras.regularizers.l2(0.001)))\n",
    "model.compile(loss='mean_squared_error', optimizer='rmsprop', metrics=[r2_keras])\n",
    "model.summary()"
   ]
  },
  {
   "cell_type": "code",
   "execution_count": 6,
   "metadata": {},
   "outputs": [
    {
     "name": "stdout",
     "output_type": "stream",
     "text": [
      "Epoch 1/50\n",
      "1000/1000 [==============================] - 20s 20ms/step - loss: 3.8409 - r2_keras: 0.9715 - val_loss: 1.6508 - val_r2_keras: 0.9855\n",
      "Epoch 2/50\n",
      "1000/1000 [==============================] - 18s 18ms/step - loss: 0.4953 - r2_keras: 0.9967 - val_loss: 0.1478 - val_r2_keras: 0.9996\n",
      "Epoch 3/50\n",
      "1000/1000 [==============================] - 18s 18ms/step - loss: 0.2712 - r2_keras: 0.9980 - val_loss: 0.1000 - val_r2_keras: 0.9996\n",
      "Epoch 4/50\n",
      "1000/1000 [==============================] - 18s 18ms/step - loss: 0.1838 - r2_keras: 0.9986 - val_loss: 0.0588 - val_r2_keras: 0.9999\n",
      "Epoch 5/50\n",
      "1000/1000 [==============================] - 18s 18ms/step - loss: 0.1533 - r2_keras: 0.9988 - val_loss: 0.0585 - val_r2_keras: 0.9998\n",
      "Epoch 6/50\n",
      "1000/1000 [==============================] - 18s 18ms/step - loss: 0.1184 - r2_keras: 0.9991 - val_loss: 0.0348 - val_r2_keras: 0.9999\n",
      "Epoch 7/50\n",
      "1000/1000 [==============================] - 18s 18ms/step - loss: 0.1051 - r2_keras: 0.9991 - val_loss: 0.0534 - val_r2_keras: 0.9997\n",
      "Epoch 8/50\n",
      "1000/1000 [==============================] - 18s 18ms/step - loss: 0.0797 - r2_keras: 0.9994 - val_loss: 0.0603 - val_r2_keras: 0.9996\n",
      "Epoch 9/50\n",
      "1000/1000 [==============================] - 17s 17ms/step - loss: 0.0718 - r2_keras: 0.9995 - val_loss: 0.0817 - val_r2_keras: 0.9994\n",
      "Epoch 10/50\n",
      "1000/1000 [==============================] - 18s 18ms/step - loss: 0.0659 - r2_keras: 0.9995 - val_loss: 0.0256 - val_r2_keras: 0.9999\n",
      "Epoch 11/50\n",
      "1000/1000 [==============================] - 18s 18ms/step - loss: 0.0545 - r2_keras: 0.9996 - val_loss: 0.0608 - val_r2_keras: 0.9995\n",
      "Epoch 12/50\n",
      "1000/1000 [==============================] - 17s 17ms/step - loss: 0.0513 - r2_keras: 0.9996 - val_loss: 0.0461 - val_r2_keras: 0.9997\n",
      "Epoch 13/50\n",
      "1000/1000 [==============================] - 17s 17ms/step - loss: 0.0471 - r2_keras: 0.9997 - val_loss: 0.0188 - val_r2_keras: 1.0000\n",
      "Epoch 14/50\n",
      "1000/1000 [==============================] - 17s 17ms/step - loss: 0.0420 - r2_keras: 0.9997 - val_loss: 0.0176 - val_r2_keras: 1.0000\n",
      "Epoch 15/50\n",
      "1000/1000 [==============================] - 16s 16ms/step - loss: 0.0391 - r2_keras: 0.9997 - val_loss: 0.0309 - val_r2_keras: 0.9998\n",
      "Epoch 16/50\n",
      "1000/1000 [==============================] - 17s 17ms/step - loss: 0.0349 - r2_keras: 0.9998 - val_loss: 0.0151 - val_r2_keras: 1.0000\n",
      "Epoch 17/50\n",
      "1000/1000 [==============================] - 17s 17ms/step - loss: 0.0361 - r2_keras: 0.9997 - val_loss: 0.0273 - val_r2_keras: 0.9998\n",
      "Epoch 18/50\n",
      "1000/1000 [==============================] - 17s 17ms/step - loss: 0.0337 - r2_keras: 0.9997 - val_loss: 0.0333 - val_r2_keras: 0.9998\n",
      "Epoch 19/50\n",
      "1000/1000 [==============================] - 17s 17ms/step - loss: 0.0266 - r2_keras: 0.9998 - val_loss: 0.0258 - val_r2_keras: 0.9998\n",
      "Epoch 20/50\n",
      "1000/1000 [==============================] - 17s 17ms/step - loss: 0.0248 - r2_keras: 0.9998 - val_loss: 0.0196 - val_r2_keras: 0.9999\n",
      "Epoch 21/50\n",
      "1000/1000 [==============================] - 17s 17ms/step - loss: 0.0254 - r2_keras: 0.9998 - val_loss: 0.0145 - val_r2_keras: 1.0000\n",
      "Epoch 22/50\n",
      "1000/1000 [==============================] - 17s 17ms/step - loss: 0.0261 - r2_keras: 0.9998 - val_loss: 0.1375 - val_r2_keras: 0.9987\n",
      "Epoch 23/50\n",
      "1000/1000 [==============================] - 16s 16ms/step - loss: 0.0262 - r2_keras: 0.9998 - val_loss: 0.0134 - val_r2_keras: 1.0000\n",
      "Epoch 24/50\n",
      "1000/1000 [==============================] - 18s 18ms/step - loss: 0.0255 - r2_keras: 0.9998 - val_loss: 0.0122 - val_r2_keras: 1.0000\n",
      "Epoch 25/50\n",
      "1000/1000 [==============================] - 17s 17ms/step - loss: 0.0259 - r2_keras: 0.9998 - val_loss: 0.0161 - val_r2_keras: 0.9999\n",
      "Epoch 26/50\n",
      "1000/1000 [==============================] - 17s 17ms/step - loss: 0.0267 - r2_keras: 0.9998 - val_loss: 0.0153 - val_r2_keras: 0.9999\n",
      "Epoch 27/50\n",
      "1000/1000 [==============================] - 17s 17ms/step - loss: 0.0238 - r2_keras: 0.9999 - val_loss: 0.0143 - val_r2_keras: 1.0000\n",
      "Epoch 28/50\n",
      "1000/1000 [==============================] - 17s 17ms/step - loss: 0.0243 - r2_keras: 0.9998 - val_loss: 0.0132 - val_r2_keras: 1.0000\n",
      "Epoch 29/50\n",
      "1000/1000 [==============================] - 17s 17ms/step - loss: 0.0190 - r2_keras: 0.9999 - val_loss: 0.0113 - val_r2_keras: 1.0000\n",
      "Epoch 30/50\n",
      "1000/1000 [==============================] - 17s 17ms/step - loss: 0.0179 - r2_keras: 0.9999 - val_loss: 0.0301 - val_r2_keras: 0.9998s: 0.0179 - r2_keras: \n",
      "Epoch 31/50\n",
      "1000/1000 [==============================] - 17s 17ms/step - loss: 0.0178 - r2_keras: 0.9999 - val_loss: 0.0090 - val_r2_keras: 1.0000\n",
      "Epoch 32/50\n",
      "1000/1000 [==============================] - 17s 17ms/step - loss: 0.0221 - r2_keras: 0.9999 - val_loss: 0.0105 - val_r2_keras: 1.0000\n",
      "Epoch 33/50\n",
      "1000/1000 [==============================] - 15s 15ms/step - loss: 0.0163 - r2_keras: 0.9999 - val_loss: 0.0090 - val_r2_keras: 1.0000\n",
      "Epoch 34/50\n",
      "1000/1000 [==============================] - 17s 17ms/step - loss: 0.0198 - r2_keras: 0.9999 - val_loss: 0.0158 - val_r2_keras: 0.9999\n",
      "Epoch 35/50\n",
      "1000/1000 [==============================] - 17s 17ms/step - loss: 0.0185 - r2_keras: 0.9999 - val_loss: 0.0154 - val_r2_keras: 0.9999\n",
      "Epoch 36/50\n",
      "1000/1000 [==============================] - 16s 16ms/step - loss: 0.0174 - r2_keras: 0.9999 - val_loss: 0.0628 - val_r2_keras: 0.9994\n",
      "Epoch 37/50\n",
      "1000/1000 [==============================] - 17s 17ms/step - loss: 0.0206 - r2_keras: 0.9999 - val_loss: 0.0149 - val_r2_keras: 0.9999\n",
      "Epoch 38/50\n",
      "1000/1000 [==============================] - 17s 17ms/step - loss: 0.0234 - r2_keras: 0.9998 - val_loss: 0.0215 - val_r2_keras: 0.9999\n",
      "Epoch 39/50\n",
      "1000/1000 [==============================] - 17s 17ms/step - loss: 0.0209 - r2_keras: 0.9999 - val_loss: 0.0111 - val_r2_keras: 1.0000\n",
      "Epoch 40/50\n",
      "1000/1000 [==============================] - 17s 17ms/step - loss: 0.0157 - r2_keras: 0.9999 - val_loss: 0.0089 - val_r2_keras: 1.0000\n",
      "Epoch 41/50\n",
      "1000/1000 [==============================] - 17s 17ms/step - loss: 0.0154 - r2_keras: 0.9999 - val_loss: 0.0170 - val_r2_keras: 0.9999\n",
      "Epoch 42/50\n",
      "1000/1000 [==============================] - 17s 17ms/step - loss: 0.0149 - r2_keras: 0.9999 - val_loss: 0.0955 - val_r2_keras: 0.9991\n",
      "Epoch 43/50\n",
      "1000/1000 [==============================] - 17s 17ms/step - loss: 0.0203 - r2_keras: 0.9999 - val_loss: 0.0114 - val_r2_keras: 1.0000\n",
      "Epoch 44/50\n",
      "1000/1000 [==============================] - 17s 17ms/step - loss: 0.0170 - r2_keras: 0.9999 - val_loss: 0.0093 - val_r2_keras: 1.0000\n",
      "Epoch 45/50\n",
      "1000/1000 [==============================] - 17s 17ms/step - loss: 0.0213 - r2_keras: 0.9999 - val_loss: 0.0102 - val_r2_keras: 1.0000\n",
      "Epoch 46/50\n",
      "1000/1000 [==============================] - 17s 17ms/step - loss: 0.0184 - r2_keras: 0.9999 - val_loss: 0.0271 - val_r2_keras: 0.9998\n",
      "Epoch 47/50\n",
      "1000/1000 [==============================] - 16s 16ms/step - loss: 0.0143 - r2_keras: 0.9999 - val_loss: 0.0108 - val_r2_keras: 1.0000\n",
      "Epoch 48/50\n",
      "1000/1000 [==============================] - 17s 17ms/step - loss: 0.0196 - r2_keras: 0.9998 - val_loss: 0.0332 - val_r2_keras: 0.9997\n",
      "Epoch 49/50\n",
      "1000/1000 [==============================] - 17s 17ms/step - loss: 0.0156 - r2_keras: 0.9999 - val_loss: 0.0086 - val_r2_keras: 1.0000\n",
      "Epoch 50/50\n",
      "1000/1000 [==============================] - 16s 16ms/step - loss: 0.0130 - r2_keras: 1.0000 - val_loss: 0.0086 - val_r2_keras: 1.0000\n"
     ]
    }
   ],
   "source": [
    "train_generator = generator(batch_size=batch_size)\n",
    "valid_generator = generator(batch_size=batch_size)\n",
    "\n",
    "history = model.fit_generator(train_generator, steps_per_epoch=1000, epochs=epochs, validation_data=valid_generator, validation_steps=100)"
   ]
  },
  {
   "cell_type": "code",
   "execution_count": 8,
   "metadata": {},
   "outputs": [
    {
     "data": {
      "image/png": "[encoded data removed]",
      "text/plain": [
       "<Figure size 432x288 with 1 Axes>"
      ]
     },
     "metadata": {},
     "output_type": "display_data"
    }
   ],
   "source": [
    "%matplotlib inline\n",
    "import matplotlib.pyplot as plt\n",
    "plt.plot(history.history['loss'])\n",
    "plt.plot(history.history['val_loss'])\n",
    "plt.title('model loss')\n",
    "plt.ylabel('loss')\n",
    "plt.xlabel('epoch')\n",
    "plt.legend(['train','valid'], loc='upper right')\n",
    "plt.show()"
   ]
  },
  {
   "cell_type": "code",
   "execution_count": 10,
   "metadata": {},
   "outputs": [
    {
     "data": {
      "image/png": "[encoded data removed]",
      "text/plain": [
       "<Figure size 432x288 with 1 Axes>"
      ]
     },
     "metadata": {},
     "output_type": "display_data"
    }
   ],
   "source": [
    "plt.plot(history.history['r2_keras'])\n",
    "plt.plot(history.history['val_r2_keras'])\n",
    "plt.title('R2')\n",
    "plt.ylabel('r2')\n",
    "plt.xlabel('epoch')\n",
    "plt.legend(['train','valid'], loc='lower right')\n",
    "plt.show()"
   ]
  },
  {
   "cell_type": "code",
   "execution_count": 15,
   "metadata": {},
   "outputs": [
    {
     "name": "stdout",
     "output_type": "stream",
     "text": [
      "[1.0027253e+01 2.0080340e+00 4.1052997e-03 1.4987120e+01]\n",
      "[10.  2.  0. 15.]\n"
     ]
    }
   ],
   "source": [
    "x = np.array([list(range(10)), [2]*10, [0]*10, list(range(5, 15))])[..., np.newaxis]\n",
    "y = np.squeeze(model.predict(x)) # expect '10, 2, 0, 15'\n",
    "print(y)\n",
    "print(y.round())"
   ]
  },
  {
   "cell_type": "code",
   "execution_count": null,
   "metadata": {},
   "outputs": [],
   "source": []
  }
 ],
 "metadata": {
  "kernelspec": {
   "display_name": "Python 3",
   "language": "python",
   "name": "python3"
  },
  "language_info": {
   "codemirror_mode": {
    "name": "ipython",
    "version": 3
   },
   "file_extension": ".py",
   "mimetype": "text/x-python",
   "name": "python",
   "nbconvert_exporter": "python",
   "pygments_lexer": "ipython3",
   "version": "3.6.5"
  }
 },
 "nbformat": 4,
 "nbformat_minor": 2
}
