{
 "cells": [
  {
   "cell_type": "code",
   "execution_count": 1,
   "metadata": {},
   "outputs": [],
   "source": [
    "%matplotlib inline\n",
    "import os\n",
    "from IPython.display import display, HTML\n",
    "import numpy as np\n",
    "import pandas as pd\n",
    "import matplotlib as mpl\n",
    "import matplotlib.pyplot as plt\n",
    "import seaborn as sns\n",
    "sns.set_style('whitegrid')"
   ]
  },
  {
   "cell_type": "code",
   "execution_count": 2,
   "metadata": {},
   "outputs": [],
   "source": [
    "DATASET_ROOT = './0608'\n",
    "TRAIN_PATH = os.path.join(DATASET_ROOT, 'tasharep.csv')\n",
    "TS_IN=20\n",
    "TS_OUT=5\n",
    "fields = ['代碼', '開盤價(元)', '最高價(元)', '最低價(元)', '收盤價(元)', '成交張數(張)']\n",
    "fields_dict = dict()\n",
    "for n, f in enumerate(fields):\n",
    "    fields_dict[f] = n"
   ]
  },
  {
   "cell_type": "code",
   "execution_count": 3,
   "metadata": {},
   "outputs": [
    {
     "name": "stderr",
     "output_type": "stream",
     "text": [
      "C:\\Users\\peter\\Anaconda3\\envs\\tensorflow\\lib\\site-packages\\IPython\\core\\interactiveshell.py:2785: DtypeWarning: Columns (3,4,5,6) have mixed types. Specify dtype option on import or set low_memory=False.\n",
      "  interactivity=interactivity, compiler=compiler, result=result)\n"
     ]
    },
    {
     "data": {
      "text/html": [
       "<div>\n",
       "<style scoped>\n",
       "    .dataframe tbody tr th:only-of-type {\n",
       "        vertical-align: middle;\n",
       "    }\n",
       "\n",
       "    .dataframe tbody tr th {\n",
       "        vertical-align: top;\n",
       "    }\n",
       "\n",
       "    .dataframe thead th {\n",
       "        text-align: right;\n",
       "    }\n",
       "</style>\n",
       "<table border=\"1\" class=\"dataframe\">\n",
       "  <thead>\n",
       "    <tr style=\"text-align: right;\">\n",
       "      <th></th>\n",
       "      <th>代碼</th>\n",
       "      <th>日期</th>\n",
       "      <th>中文簡稱</th>\n",
       "      <th>開盤價(元)</th>\n",
       "      <th>最高價(元)</th>\n",
       "      <th>最低價(元)</th>\n",
       "      <th>收盤價(元)</th>\n",
       "      <th>成交張數(張)</th>\n",
       "    </tr>\n",
       "  </thead>\n",
       "  <tbody>\n",
       "    <tr>\n",
       "      <th>0</th>\n",
       "      <td>1101</td>\n",
       "      <td>20130102</td>\n",
       "      <td>台泥</td>\n",
       "      <td>30.41</td>\n",
       "      <td>30.53</td>\n",
       "      <td>30.18</td>\n",
       "      <td>30.45</td>\n",
       "      <td>6374.0</td>\n",
       "    </tr>\n",
       "    <tr>\n",
       "      <th>1332</th>\n",
       "      <td>1102</td>\n",
       "      <td>20130102</td>\n",
       "      <td>亞泥</td>\n",
       "      <td>28.74</td>\n",
       "      <td>28.90</td>\n",
       "      <td>28.70</td>\n",
       "      <td>28.78</td>\n",
       "      <td>2856.0</td>\n",
       "    </tr>\n",
       "    <tr>\n",
       "      <th>2664</th>\n",
       "      <td>1103</td>\n",
       "      <td>20130102</td>\n",
       "      <td>嘉泥</td>\n",
       "      <td>12.29</td>\n",
       "      <td>12.33</td>\n",
       "      <td>12.24</td>\n",
       "      <td>12.24</td>\n",
       "      <td>315.0</td>\n",
       "    </tr>\n",
       "    <tr>\n",
       "      <th>3996</th>\n",
       "      <td>1104</td>\n",
       "      <td>20130102</td>\n",
       "      <td>環泥</td>\n",
       "      <td>11.87</td>\n",
       "      <td>12.17</td>\n",
       "      <td>11.87</td>\n",
       "      <td>12.06</td>\n",
       "      <td>551.0</td>\n",
       "    </tr>\n",
       "    <tr>\n",
       "      <th>5328</th>\n",
       "      <td>1108</td>\n",
       "      <td>20130102</td>\n",
       "      <td>幸福</td>\n",
       "      <td>5.18</td>\n",
       "      <td>5.22</td>\n",
       "      <td>5.16</td>\n",
       "      <td>5.18</td>\n",
       "      <td>447.0</td>\n",
       "    </tr>\n",
       "    <tr>\n",
       "      <th>6660</th>\n",
       "      <td>1109</td>\n",
       "      <td>20130102</td>\n",
       "      <td>信大</td>\n",
       "      <td>9.24</td>\n",
       "      <td>9.28</td>\n",
       "      <td>9.19</td>\n",
       "      <td>9.24</td>\n",
       "      <td>104.0</td>\n",
       "    </tr>\n",
       "    <tr>\n",
       "      <th>7992</th>\n",
       "      <td>1110</td>\n",
       "      <td>20130102</td>\n",
       "      <td>東泥</td>\n",
       "      <td>13.41</td>\n",
       "      <td>13.46</td>\n",
       "      <td>13.23</td>\n",
       "      <td>13.23</td>\n",
       "      <td>169.0</td>\n",
       "    </tr>\n",
       "    <tr>\n",
       "      <th>9324</th>\n",
       "      <td>1201</td>\n",
       "      <td>20130102</td>\n",
       "      <td>味全</td>\n",
       "      <td>35.69</td>\n",
       "      <td>37.74</td>\n",
       "      <td>35.44</td>\n",
       "      <td>37.69</td>\n",
       "      <td>8971.0</td>\n",
       "    </tr>\n",
       "    <tr>\n",
       "      <th>10656</th>\n",
       "      <td>1203</td>\n",
       "      <td>20130102</td>\n",
       "      <td>味王</td>\n",
       "      <td>16.61</td>\n",
       "      <td>16.78</td>\n",
       "      <td>16.61</td>\n",
       "      <td>16.73</td>\n",
       "      <td>143.0</td>\n",
       "    </tr>\n",
       "    <tr>\n",
       "      <th>11988</th>\n",
       "      <td>1210</td>\n",
       "      <td>20130102</td>\n",
       "      <td>大成</td>\n",
       "      <td>16.84</td>\n",
       "      <td>16.99</td>\n",
       "      <td>16.84</td>\n",
       "      <td>16.87</td>\n",
       "      <td>1373.0</td>\n",
       "    </tr>\n",
       "  </tbody>\n",
       "</table>\n",
       "</div>"
      ],
      "text/plain": [
       "         代碼        日期                中文簡稱  開盤價(元)  最高價(元)  最低價(元)  收盤價(元)  \\\n",
       "0      1101  20130102  台泥                   30.41   30.53   30.18   30.45   \n",
       "1332   1102  20130102  亞泥                   28.74   28.90   28.70   28.78   \n",
       "2664   1103  20130102  嘉泥                   12.29   12.33   12.24   12.24   \n",
       "3996   1104  20130102  環泥                   11.87   12.17   11.87   12.06   \n",
       "5328   1108  20130102  幸福                    5.18    5.22    5.16    5.18   \n",
       "6660   1109  20130102  信大                    9.24    9.28    9.19    9.24   \n",
       "7992   1110  20130102  東泥                   13.41   13.46   13.23   13.23   \n",
       "9324   1201  20130102  味全                   35.69   37.74   35.44   37.69   \n",
       "10656  1203  20130102  味王                   16.61   16.78   16.61   16.73   \n",
       "11988  1210  20130102  大成                   16.84   16.99   16.84   16.87   \n",
       "\n",
       "       成交張數(張)  \n",
       "0       6374.0  \n",
       "1332    2856.0  \n",
       "2664     315.0  \n",
       "3996     551.0  \n",
       "5328     447.0  \n",
       "6660     104.0  \n",
       "7992     169.0  \n",
       "9324    8971.0  \n",
       "10656    143.0  \n",
       "11988   1373.0  "
      ]
     },
     "metadata": {},
     "output_type": "display_data"
    }
   ],
   "source": [
    "train_csv = pd.read_csv(TRAIN_PATH)\n",
    "train_csv.sort_values(by=['日期', '代碼'], ascending=True, inplace=True)\n",
    "train_csv[fields] = train_csv[fields].applymap(lambda x: float(x.replace(',','')) if type(x)==str else x)\n",
    "display(train_csv.head(n=10))"
   ]
  },
  {
   "cell_type": "code",
   "execution_count": 4,
   "metadata": {
    "scrolled": true
   },
   "outputs": [
    {
     "name": "stdout",
     "output_type": "stream",
     "text": [
      "1332\n"
     ]
    }
   ],
   "source": [
    "codes = list(sorted(set(train_csv['代碼'])))\n",
    "days  = list(sorted(set(train_csv['日期'])))\n",
    "print(len(days))"
   ]
  },
  {
   "cell_type": "code",
   "execution_count": 5,
   "metadata": {},
   "outputs": [],
   "source": [
    "split_data = [] # 同一天分配在同一 row (已對時間排序)\n",
    "for day in days:\n",
    "    row = train_csv.loc[train_csv['日期']==day][fields]\n",
    "    split_data.append(row)"
   ]
  },
  {
   "cell_type": "code",
   "execution_count": 6,
   "metadata": {},
   "outputs": [
    {
     "name": "stdout",
     "output_type": "stream",
     "text": [
      "1691\n",
      "1387\n"
     ]
    }
   ],
   "source": [
    "subset = set(codes)\n",
    "print(len(subset))\n",
    "for n, s in enumerate(split_data):\n",
    "    subset = subset & set(s['代碼']) # 尋找每天股票種類的交集\n",
    "# subset = list(sorted(list(subset)))\n",
    "# display(subset) # 從以前到現在每一天都存在的股票們\n",
    "print(len(subset))"
   ]
  },
  {
   "cell_type": "code",
   "execution_count": 7,
   "metadata": {},
   "outputs": [],
   "source": [
    "np.save('codes_subset.npy', np.asarray(list(sorted(list(subset))))) # 將 code 的交集存起來，以後用得到"
   ]
  },
  {
   "cell_type": "code",
   "execution_count": 8,
   "metadata": {},
   "outputs": [
    {
     "name": "stdout",
     "output_type": "stream",
     "text": [
      "1332\n",
      "1332\n"
     ]
    },
    {
     "data": {
      "text/html": [
       "<div>\n",
       "<style scoped>\n",
       "    .dataframe tbody tr th:only-of-type {\n",
       "        vertical-align: middle;\n",
       "    }\n",
       "\n",
       "    .dataframe tbody tr th {\n",
       "        vertical-align: top;\n",
       "    }\n",
       "\n",
       "    .dataframe thead th {\n",
       "        text-align: right;\n",
       "    }\n",
       "</style>\n",
       "<table border=\"1\" class=\"dataframe\">\n",
       "  <thead>\n",
       "    <tr style=\"text-align: right;\">\n",
       "      <th></th>\n",
       "      <th>代碼</th>\n",
       "      <th>開盤價(元)</th>\n",
       "      <th>最高價(元)</th>\n",
       "      <th>最低價(元)</th>\n",
       "      <th>收盤價(元)</th>\n",
       "      <th>成交張數(張)</th>\n",
       "    </tr>\n",
       "  </thead>\n",
       "  <tbody>\n",
       "    <tr>\n",
       "      <th>0</th>\n",
       "      <td>1101</td>\n",
       "      <td>30.41</td>\n",
       "      <td>30.53</td>\n",
       "      <td>30.18</td>\n",
       "      <td>30.45</td>\n",
       "      <td>6374.0</td>\n",
       "    </tr>\n",
       "    <tr>\n",
       "      <th>1332</th>\n",
       "      <td>1102</td>\n",
       "      <td>28.74</td>\n",
       "      <td>28.90</td>\n",
       "      <td>28.70</td>\n",
       "      <td>28.78</td>\n",
       "      <td>2856.0</td>\n",
       "    </tr>\n",
       "    <tr>\n",
       "      <th>2664</th>\n",
       "      <td>1103</td>\n",
       "      <td>12.29</td>\n",
       "      <td>12.33</td>\n",
       "      <td>12.24</td>\n",
       "      <td>12.24</td>\n",
       "      <td>315.0</td>\n",
       "    </tr>\n",
       "    <tr>\n",
       "      <th>3996</th>\n",
       "      <td>1104</td>\n",
       "      <td>11.87</td>\n",
       "      <td>12.17</td>\n",
       "      <td>11.87</td>\n",
       "      <td>12.06</td>\n",
       "      <td>551.0</td>\n",
       "    </tr>\n",
       "    <tr>\n",
       "      <th>5328</th>\n",
       "      <td>1108</td>\n",
       "      <td>5.18</td>\n",
       "      <td>5.22</td>\n",
       "      <td>5.16</td>\n",
       "      <td>5.18</td>\n",
       "      <td>447.0</td>\n",
       "    </tr>\n",
       "    <tr>\n",
       "      <th>6660</th>\n",
       "      <td>1109</td>\n",
       "      <td>9.24</td>\n",
       "      <td>9.28</td>\n",
       "      <td>9.19</td>\n",
       "      <td>9.24</td>\n",
       "      <td>104.0</td>\n",
       "    </tr>\n",
       "    <tr>\n",
       "      <th>7992</th>\n",
       "      <td>1110</td>\n",
       "      <td>13.41</td>\n",
       "      <td>13.46</td>\n",
       "      <td>13.23</td>\n",
       "      <td>13.23</td>\n",
       "      <td>169.0</td>\n",
       "    </tr>\n",
       "    <tr>\n",
       "      <th>9324</th>\n",
       "      <td>1201</td>\n",
       "      <td>35.69</td>\n",
       "      <td>37.74</td>\n",
       "      <td>35.44</td>\n",
       "      <td>37.69</td>\n",
       "      <td>8971.0</td>\n",
       "    </tr>\n",
       "    <tr>\n",
       "      <th>10656</th>\n",
       "      <td>1203</td>\n",
       "      <td>16.61</td>\n",
       "      <td>16.78</td>\n",
       "      <td>16.61</td>\n",
       "      <td>16.73</td>\n",
       "      <td>143.0</td>\n",
       "    </tr>\n",
       "    <tr>\n",
       "      <th>11988</th>\n",
       "      <td>1210</td>\n",
       "      <td>16.84</td>\n",
       "      <td>16.99</td>\n",
       "      <td>16.84</td>\n",
       "      <td>16.87</td>\n",
       "      <td>1373.0</td>\n",
       "    </tr>\n",
       "  </tbody>\n",
       "</table>\n",
       "</div>"
      ],
      "text/plain": [
       "         代碼  開盤價(元)  最高價(元)  最低價(元)  收盤價(元)  成交張數(張)\n",
       "0      1101   30.41   30.53   30.18   30.45   6374.0\n",
       "1332   1102   28.74   28.90   28.70   28.78   2856.0\n",
       "2664   1103   12.29   12.33   12.24   12.24    315.0\n",
       "3996   1104   11.87   12.17   11.87   12.06    551.0\n",
       "5328   1108    5.18    5.22    5.16    5.18    447.0\n",
       "6660   1109    9.24    9.28    9.19    9.24    104.0\n",
       "7992   1110   13.41   13.46   13.23   13.23    169.0\n",
       "9324   1201   35.69   37.74   35.44   37.69   8971.0\n",
       "10656  1203   16.61   16.78   16.61   16.73    143.0\n",
       "11988  1210   16.84   16.99   16.84   16.87   1373.0"
      ]
     },
     "metadata": {},
     "output_type": "display_data"
    }
   ],
   "source": [
    "print(len(split_data))\n",
    "for n in reversed(range(len(split_data))):\n",
    "    mask = split_data[n]['代碼'].isin(subset) # 濾除不在交集內的股票\n",
    "    split_data[n] = split_data[n].loc[mask]\n",
    "    assert len(split_data[n])==len(subset), '若濾除後，同一天股票數量與我們想要的股票集和大小不同的話，那一定有錯誤發生' # 若濾除後，同一天股票數量與我們想要的股票集和大小不同的話，那一定有錯誤發生\n",
    "print(len(split_data))\n",
    "display(split_data[0].head(n=10))"
   ]
  },
  {
   "cell_type": "code",
   "execution_count": 9,
   "metadata": {},
   "outputs": [
    {
     "name": "stdout",
     "output_type": "stream",
     "text": [
      "(1332, 1387, 5)\n"
     ]
    }
   ],
   "source": [
    "for n in range(len(split_data)):\n",
    "    split_data[n] = np.asarray(split_data[n], dtype=np.float32)[...,1:] # drop codes\n",
    "split_data = np.asarray(split_data, dtype=np.float32)\n",
    "print(split_data.shape) # shape: (天數, unique 且通常存在股票數, features)"
   ]
  },
  {
   "cell_type": "code",
   "execution_count": 10,
   "metadata": {},
   "outputs": [
    {
     "name": "stdout",
     "output_type": "stream",
     "text": [
      "(1332, 6935)\n"
     ]
    }
   ],
   "source": [
    "# 看起來都沒問題? 接下來把最後兩個維度壓成同一為，做成 1388*5 維的 featrue \n",
    "# 接下來就可以執行 pca 來降維\n",
    "split_data = split_data.reshape(split_data.shape[0], -1)\n",
    "print(split_data.shape)# shape: (天數, unique 且通常存在股票數*features)"
   ]
  },
  {
   "cell_type": "code",
   "execution_count": 11,
   "metadata": {},
   "outputs": [
    {
     "name": "stdout",
     "output_type": "stream",
     "text": [
      "nans: 0\n"
     ]
    }
   ],
   "source": [
    "oops = np.sum(np.isinf(split_data)) # 確認資料乾淨\n",
    "print('nans: {:d}'.format(int(oops)))\n",
    "if oops>0:\n",
    "    split_data = np.nan_to_num(split_data) # 轉換髒掉的資料"
   ]
  },
  {
   "cell_type": "code",
   "execution_count": 12,
   "metadata": {},
   "outputs": [],
   "source": [
    "from sklearn.decomposition import PCA, FastICA\n",
    "from sklearn.manifold import Isomap, LocallyLinearEmbedding, TSNE, MDS\n",
    "\n",
    "def plot_embedding(x_emb,title=''):\n",
    "    ax = plt.subplot()\n",
    "    ax.scatter(x_emb[:,0], x_emb[:,1])\n",
    "    ax.set_title(title)\n",
    "    plt.show()"
   ]
  },
  {
   "cell_type": "code",
   "execution_count": 13,
   "metadata": {},
   "outputs": [
    {
     "name": "stdout",
     "output_type": "stream",
     "text": [
      "Wall time: 4.34 s\n",
      "Wall time: 219 ms\n",
      "Wall time: 1.58 s\n",
      "Wall time: 3.99 s\n",
      "Wall time: 49.2 s\n"
     ]
    },
    {
     "name": "stderr",
     "output_type": "stream",
     "text": [
      "C:\\Users\\peter\\Anaconda3\\envs\\tensorflow\\lib\\site-packages\\sklearn\\metrics\\pairwise.py:257: RuntimeWarning: invalid value encountered in sqrt\n",
      "  return distances if squared else np.sqrt(distances, out=distances)\n"
     ]
    },
    {
     "name": "stdout",
     "output_type": "stream",
     "text": [
      "Wall time: 49.9 s\n"
     ]
    },
    {
     "data": {
      "image/png": "[encoded data removed]",
      "text/plain": [
       "<Figure size 432x288 with 1 Axes>"
      ]
     },
     "metadata": {},
     "output_type": "display_data"
    },
    {
     "data": {
      "image/png": "[encoded data removed]",
      "text/plain": [
       "<Figure size 432x288 with 1 Axes>"
      ]
     },
     "metadata": {},
     "output_type": "display_data"
    },
    {
     "data": {
      "image/png": "[encoded data removed]",
      "text/plain": [
       "<Figure size 432x288 with 1 Axes>"
      ]
     },
     "metadata": {},
     "output_type": "display_data"
    },
    {
     "data": {
      "image/png": "[encoded data removed]",
      "text/plain": [
       "<Figure size 432x288 with 1 Axes>"
      ]
     },
     "metadata": {},
     "output_type": "display_data"
    },
    {
     "data": {
      "image/png": "[encoded data removed]",
      "text/plain": [
       "<Figure size 432x288 with 1 Axes>"
      ]
     },
     "metadata": {},
     "output_type": "display_data"
    },
    {
     "data": {
      "image/png": "[encoded data removed]",
      "text/plain": [
       "<Figure size 432x288 with 1 Axes>"
      ]
     },
     "metadata": {},
     "output_type": "display_data"
    }
   ],
   "source": [
    "isomap = Isomap(n_neighbors=5, n_components=2, n_jobs=-1)\n",
    "pca = PCA(n_components=2)\n",
    "fast_ica = FastICA(n_components=2)\n",
    "lle = LocallyLinearEmbedding(n_neighbors=5, n_components=2, n_jobs=-1)\n",
    "mds = MDS(n_components=2, n_jobs=-1)\n",
    "tsne = TSNE(n_components=2)\n",
    "%time isomap.fit(split_data)\n",
    "%time pca.fit(split_data)\n",
    "%time fast_ica.fit(split_data)\n",
    "%time lle.fit(split_data)\n",
    "%time dummy1 = tsne.fit_transform(split_data)\n",
    "%time dummy2 = mds.fit_transform(split_data)\n",
    "\n",
    "plot_embedding(dummy1, 'T-SNE')\n",
    "plot_embedding(dummy2, 'MDS')\n",
    "del dummy1, dummy2\n",
    "plot_embedding(pca.transform(split_data), 'PCA')\n",
    "plot_embedding(fast_ica.transform(split_data), 'Fast ICA')\n",
    "plot_embedding(isomap.transform(split_data), 'Isomap')\n",
    "plot_embedding(lle.transform(split_data), 'LLE')\n"
   ]
  },
  {
   "cell_type": "code",
   "execution_count": 14,
   "metadata": {},
   "outputs": [
    {
     "name": "stdout",
     "output_type": "stream",
     "text": [
      "Wall time: 4.83 s\n"
     ]
    }
   ],
   "source": [
    "import pickle\n",
    "isomap = Isomap(n_neighbors=5, n_components=122, n_jobs=-1)\n",
    "%time isomap.fit(split_data)\n",
    "with open('isomap.pickle', 'wb') as fp:\n",
    "    pickle.dump(isomap, fp)"
   ]
  },
  {
   "cell_type": "markdown",
   "metadata": {},
   "source": [
    "![](https://tbrain.trendmicro.com.tw/Content/img/18etf.png)"
   ]
  },
  {
   "cell_type": "markdown",
   "metadata": {},
   "source": [
    "### Todo:\n",
    "1. 是否需要針對 outlier 做處理 (資料清理)"
   ]
  },
  {
   "cell_type": "code",
   "execution_count": null,
   "metadata": {},
   "outputs": [],
   "source": []
  }
 ],
 "metadata": {
  "kernelspec": {
   "display_name": "Python 3",
   "language": "python",
   "name": "python3"
  },
  "language_info": {
   "codemirror_mode": {
    "name": "ipython",
    "version": 3
   },
   "file_extension": ".py",
   "mimetype": "text/x-python",
   "name": "python",
   "nbconvert_exporter": "python",
   "pygments_lexer": "ipython3",
   "version": "3.6.5"
  }
 },
 "nbformat": 4,
 "nbformat_minor": 2
}
